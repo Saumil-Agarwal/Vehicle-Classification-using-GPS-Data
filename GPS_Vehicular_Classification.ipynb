{
  "nbformat": 4,
  "nbformat_minor": 0,
  "metadata": {
    "kernelspec": {
      "name": "python3",
      "display_name": "Python 3"
    },
    "language_info": {
      "codemirror_mode": {
        "name": "ipython",
        "version": 3
      },
      "file_extension": ".py",
      "mimetype": "text/x-python",
      "name": "python",
      "nbconvert_exporter": "python",
      "pygments_lexer": "ipython3",
      "version": "3.7.4"
    },
    "colab": {
      "name": "GPS_Vehicular_Classification.ipynb",
      "provenance": [],
      "collapsed_sections": [
        "TfTPZLnscPPe",
        "V9hYj1p4eV8q",
        "ivITp2u1euRu"
      ]
    },
    "accelerator": "GPU"
  },
  "cells": [
    {
      "cell_type": "markdown",
      "metadata": {
        "id": "TfTPZLnscPPe",
        "colab_type": "text"
      },
      "source": [
        "#Mount GDrive"
      ]
    },
    {
      "cell_type": "code",
      "metadata": {
        "id": "4-U_HRh7At5q",
        "colab_type": "code",
        "outputId": "972f5d37-2fbd-4fa3-815e-37658db6f0d3",
        "colab": {
          "base_uri": "https://localhost:8080/",
          "height": 122
        }
      },
      "source": [
        "from google.colab import drive\n",
        "drive.mount('/content/drive')"
      ],
      "execution_count": 0,
      "outputs": [
        {
          "output_type": "stream",
          "text": [
            "Go to this URL in a browser: https://accounts.google.com/o/oauth2/auth?client_id=947318989803-6bn6qk8qdgf4n4g3pfee6491hc0brc4i.apps.googleusercontent.com&redirect_uri=urn%3aietf%3awg%3aoauth%3a2.0%3aoob&response_type=code&scope=email%20https%3a%2f%2fwww.googleapis.com%2fauth%2fdocs.test%20https%3a%2f%2fwww.googleapis.com%2fauth%2fdrive%20https%3a%2f%2fwww.googleapis.com%2fauth%2fdrive.photos.readonly%20https%3a%2f%2fwww.googleapis.com%2fauth%2fpeopleapi.readonly\n",
            "\n",
            "Enter your authorization code:\n",
            "··········\n",
            "Mounted at /content/drive\n"
          ],
          "name": "stdout"
        }
      ]
    },
    {
      "cell_type": "code",
      "metadata": {
        "id": "JN52iZ9NBU7R",
        "colab_type": "code",
        "outputId": "2e1a40f0-7ee5-45b4-ffca-beb8c173a65d",
        "colab": {
          "base_uri": "https://localhost:8080/",
          "height": 34
        }
      },
      "source": [
        "%cd /content/drive/'My Drive'/'Colab Notebooks'/\n",
        "# cd /content/drive/My Drive/Sop_GPS_Classification/PreProcessedData_Final/"
      ],
      "execution_count": 0,
      "outputs": [
        {
          "output_type": "stream",
          "text": [
            "/content/drive/My Drive/Colab Notebooks\n"
          ],
          "name": "stdout"
        }
      ]
    },
    {
      "cell_type": "code",
      "metadata": {
        "id": "tLrnqC-ZZImr",
        "colab_type": "code",
        "colab": {}
      },
      "source": [
        "ls"
      ],
      "execution_count": 0,
      "outputs": []
    },
    {
      "cell_type": "markdown",
      "metadata": {
        "id": "V9hYj1p4eV8q",
        "colab_type": "text"
      },
      "source": [
        "#Import the required libraries"
      ]
    },
    {
      "cell_type": "code",
      "metadata": {
        "id": "vdGp5BwtCMhC",
        "colab_type": "code",
        "colab": {}
      },
      "source": [
        "!pip install pyproj"
      ],
      "execution_count": 0,
      "outputs": []
    },
    {
      "cell_type": "code",
      "metadata": {
        "id": "sWZgFRS76GCe",
        "colab_type": "code",
        "colab": {}
      },
      "source": [
        "import numpy as np\n",
        "import pandas as pd\n",
        "# import sklearn as sk\n",
        "# from sklearn.decomposition import PCA\n",
        "# from geopy.distance import geodesic\n",
        "# import mpu\n",
        "import pyproj\n",
        "# import warnings\n",
        "# warnings.filterwarnings('ignore')\n",
        "# except:\n",
        "#     pass\n",
        "# import keras\n",
        "# # from keras.activation import adam\n",
        "# from keras.models import Sequential\n",
        "# from keras.layers import Dense, LSTM, Input\n",
        "# from keras.utils import to_categorical\n",
        "import glob\n",
        "\n",
        "from datetime import datetime\n",
        "from datetime import timedelta\n",
        "from IPython.display import clear_output\n"
      ],
      "execution_count": 0,
      "outputs": []
    },
    {
      "cell_type": "markdown",
      "metadata": {
        "id": "ivITp2u1euRu",
        "colab_type": "text"
      },
      "source": [
        "#Preprocessing"
      ]
    },
    {
      "cell_type": "markdown",
      "metadata": {
        "id": "rXhU4BtehY3n",
        "colab_type": "text"
      },
      "source": [
        "Extracting all the required file names."
      ]
    },
    {
      "cell_type": "code",
      "metadata": {
        "id": "CibVGHqBB0tW",
        "colab_type": "code",
        "colab": {}
      },
      "source": [
        "path = '20190818'\n",
        "all_files = glob.glob(path+ \"/*.csv\")\n",
        "print(all_files)\n",
        "clear_output()"
      ],
      "execution_count": 0,
      "outputs": []
    },
    {
      "cell_type": "markdown",
      "metadata": {
        "id": "8hsX2abHhhuC",
        "colab_type": "text"
      },
      "source": [
        "Reading all the files as dataframes and appending them to a list."
      ]
    },
    {
      "cell_type": "code",
      "metadata": {
        "id": "coZQr-vDDS-7",
        "colab_type": "code",
        "colab": {}
      },
      "source": [
        "li=[]\n",
        "i=0\n",
        "for filename in all_files :\n",
        "    df = pd.read_csv(filename, index_col=None, header= None, sep=';')\n",
        "    if (i%1000 == 0):\n",
        "      print(i)\n",
        "    i = i + 1\n",
        "    li.append(df)\n",
        "clear_output()"
      ],
      "execution_count": 0,
      "outputs": []
    },
    {
      "cell_type": "markdown",
      "metadata": {
        "id": "a_aB6Cpahy2n",
        "colab_type": "text"
      },
      "source": [
        "Removing redundant columns."
      ]
    },
    {
      "cell_type": "code",
      "metadata": {
        "id": "84klA4hn6GCi",
        "colab_type": "code",
        "colab": {}
      },
      "source": [
        "for i in range(len(li)):\n",
        "    if(i!=0):\n",
        "      df=li[i]\n",
        "      df.drop(['d1', 'd2', 'd3'], axis=1, inplace=True)\n",
        "      # df.rename(columns={4:'d1', 6:'d1', 7:'d2', 8:'d3'}, inplace=True)\n",
        "      if i%1000 == 0:\n",
        "        print(i)\n",
        "      i=i+1\n",
        "clear_output()"
      ],
      "execution_count": 0,
      "outputs": []
    },
    {
      "cell_type": "markdown",
      "metadata": {
        "id": "BNi8OJ1qij3n",
        "colab_type": "text"
      },
      "source": [
        "Creating a dictionary for storing all the information of one vehicle in one dataframe."
      ]
    },
    {
      "cell_type": "code",
      "metadata": {
        "id": "O5RrD6m7LSCX",
        "colab_type": "code",
        "colab": {}
      },
      "source": [
        "uniqueID=dict()\n",
        "for i in range(len(li)):\n",
        "  for j in range(li[i].shape[0]):\n",
        "    if(uniqueID.get(li[i].at[j,'id']) == None):\n",
        "      uniqueID[li[i].at[j,'id']] = 1\n",
        "    else:\n",
        "      uniqueID[li[i].at[j,'id']] += 1\n",
        "  if i%1000 == 0:\n",
        "    print(i)\n",
        "\n",
        "clear_output()"
      ],
      "execution_count": 0,
      "outputs": []
    },
    {
      "cell_type": "markdown",
      "metadata": {
        "id": "ozAiC3m3iYGA",
        "colab_type": "text"
      },
      "source": [
        "Creating the necessary columns."
      ]
    },
    {
      "cell_type": "code",
      "metadata": {
        "id": "Ir-PcqekKrWE",
        "colab_type": "code",
        "colab": {}
      },
      "source": [
        "dictOfList={}\n",
        "for ID in uniqueID:\n",
        "    dictOfList[ID] = [] #create a dictionary of lists\n",
        "for j in range(len(li)):\n",
        "  for k in range(li[j].shape[0]):\n",
        "    tmpDict = {}\n",
        "    tmpDict.update({'id':li[j].at[k,'id']})\n",
        "    tmpDict.update({'time':li[j].at[k,'time']})\n",
        "    tmpDict.update({'lat':li[j].at[k,'lat']})\n",
        "    tmpDict.update({'long':li[j].at[k,'long']})\n",
        "    tmpDict.update({'speed':li[j].at[k,'speed']})\n",
        "    # tmpDict.update({'class':li[j].at[k,'class']})\n",
        "    dictOfList[li[j].at[k,'id']].append(tmpDict)   \n",
        "  if(j%1000 == 0):\n",
        "    print(j)  \n",
        "clear_output() "
      ],
      "execution_count": 0,
      "outputs": []
    },
    {
      "cell_type": "markdown",
      "metadata": {
        "id": "_eXJ40hEio36",
        "colab_type": "text"
      },
      "source": [
        "Storing all the information about a vehicle in one single dataframe in the dictionary of dataframes."
      ]
    },
    {
      "cell_type": "code",
      "metadata": {
        "id": "79ug2rutXxmR",
        "colab_type": "code",
        "colab": {}
      },
      "source": [
        "preData=[]\n",
        "for key in dictOfList:\n",
        "  frame=pd.DataFrame(dictOfList[key])\n",
        "  preData.append(frame)"
      ],
      "execution_count": 0,
      "outputs": []
    },
    {
      "cell_type": "markdown",
      "metadata": {
        "id": "at1KatxuioHO",
        "colab_type": "text"
      },
      "source": [
        "Saving this  processed data in csv format on disk."
      ]
    },
    {
      "cell_type": "code",
      "metadata": {
        "id": "EEg6DRanY7zL",
        "colab_type": "code",
        "colab": {}
      },
      "source": [
        "for i in range(len(preData)):\n",
        "  name = './TestPreProcessedData_1/DataFile_'+str(i+1)+'.csv'\n",
        "  preData[i].to_csv(name)"
      ],
      "execution_count": 0,
      "outputs": []
    },
    {
      "cell_type": "markdown",
      "metadata": {
        "id": "Mp8vY2Nai_wt",
        "colab_type": "text"
      },
      "source": [
        "Reading the vehicle-wise data from disk."
      ]
    },
    {
      "cell_type": "code",
      "metadata": {
        "id": "k2krqcBB_Q9C",
        "colab_type": "code",
        "colab": {}
      },
      "source": [
        "path = 'TestPreProcessedData_1'\n",
        "all_files = glob.glob(path+ \"/*.csv\")\n",
        "vehicles=[]\n",
        "i = 0\n",
        "for fileName in all_files:\n",
        "  frame = pd.read_csv(fileName, sep = ',')\n",
        "  vehicles.append(frame)\n",
        "  if i%1000 == 0:\n",
        "    print(i)\n",
        "  i += 1\n",
        "\n",
        "clear_output()"
      ],
      "execution_count": 0,
      "outputs": []
    },
    {
      "cell_type": "markdown",
      "metadata": {
        "id": "8gcZrrqwjD0W",
        "colab_type": "text"
      },
      "source": [
        "Adding the necessary columns for learning the model."
      ]
    },
    {
      "cell_type": "code",
      "metadata": {
        "id": "l6_FwVwf6GCq",
        "colab_type": "code",
        "colab": {}
      },
      "source": [
        "# Adding new columns for speed,datetime,etc\n",
        "for i in range(len(vehicles)):\n",
        "    vehicles[i].insert(loc=6, column='dist', value=1.0)\n",
        "    vehicles[i].insert(loc=7, column='LatLongSpeed', value=1.0)\n",
        "    vehicles[i].insert(loc=8, column='acc', value=1.0)\n",
        "    vehicles[i].insert(loc=9, column='datetime',value=datetime.strptime('1857/08/15 00:00:00', '%Y/%m/%d %H:%M:%S'))\n",
        "    if(i%1000==0):\n",
        "      print(i)\n",
        "clear_output()"
      ],
      "execution_count": 0,
      "outputs": []
    },
    {
      "cell_type": "markdown",
      "metadata": {
        "id": "Pf3GqhBVjSNa",
        "colab_type": "text"
      },
      "source": [
        "Parsing the timestamps into the datetime format."
      ]
    },
    {
      "cell_type": "code",
      "metadata": {
        "id": "ysgVEL6n6GCv",
        "colab_type": "code",
        "colab": {}
      },
      "source": [
        "#populating datetime and sorting according to time\n",
        "for j in range(len(vehicles)):\n",
        "    for k in range(0, vehicles[j].shape[0]):\n",
        "        vehicles[j].at[k,'datetime'] = datetime.strptime(vehicles[j].at[k,'time'], '%Y/%m/%d %H:%M:%S')\n",
        "    vehicles[j].sort_values(by='datetime',inplace=True,na_position='first')\n",
        "    if(j%1000 == 0):\n",
        "      print(j)\n",
        "clear_output()"
      ],
      "execution_count": 0,
      "outputs": []
    },
    {
      "cell_type": "markdown",
      "metadata": {
        "id": "ADXxo8cHjaGr",
        "colab_type": "text"
      },
      "source": [
        "Dropping rows with duplicate values of timestamps."
      ]
    },
    {
      "cell_type": "code",
      "metadata": {
        "id": "vyht8eW0O1IE",
        "colab_type": "code",
        "colab": {}
      },
      "source": [
        "for i in range(len(vehicles)):\n",
        "  vehicles[i].drop_duplicates(subset=['datetime'], keep='first', inplace=True)"
      ],
      "execution_count": 0,
      "outputs": []
    },
    {
      "cell_type": "code",
      "metadata": {
        "id": "HHlLo3gT6GCx",
        "colab_type": "code",
        "colab": {}
      },
      "source": [
        "#Just to check whether duplicates remain or not\n",
        "for i in range(len(vehicles)):\n",
        "  if(any(vehicles[i]['datetime'].duplicated()) == True):\n",
        "    print(\"Duplicate Exists in \"+str(i))"
      ],
      "execution_count": 0,
      "outputs": []
    },
    {
      "cell_type": "markdown",
      "metadata": {
        "id": "B6QVw_a-jgpS",
        "colab_type": "text"
      },
      "source": [
        "Creating a new list of dataframes (one for each vehicle) for further preprocessing."
      ]
    },
    {
      "cell_type": "code",
      "metadata": {
        "id": "kEfMEdF_6GC7",
        "colab_type": "code",
        "colab": {}
      },
      "source": [
        "vehicles_new=[]\n",
        "for i in range(len(vehicles)):\n",
        "    reset_index_df = vehicles[i].reset_index(drop=True)\n",
        "    vehicles_new.append(reset_index_df[['id', 'datetime','lat','long','dist','speed','LatLongSpeed','acc']].copy())"
      ],
      "execution_count": 0,
      "outputs": []
    },
    {
      "cell_type": "markdown",
      "metadata": {
        "id": "C6lWCLb-kVkC",
        "colab_type": "text"
      },
      "source": [
        "Checking for duplicate timestamps and empty vehicle data."
      ]
    },
    {
      "cell_type": "code",
      "metadata": {
        "id": "FXpvO8b0TIyt",
        "colab_type": "code",
        "colab": {}
      },
      "source": [
        "#In case, if duplicates remain, delete them forcefully\n",
        "for i in range(len(vehicles_new)):\n",
        "    duplicateRowsDF = vehicles_new[i][vehicles_new[i].duplicated(subset = ['datetime'],keep = 'first')]\n",
        "    print(\"Duplicate Rows of :\"+ str(i))\n",
        "    index_duplicates=list(duplicateRowsDF.index.values)\n",
        "    vehicles_new[i].drop(vehicles_new[i].index[index_duplicates],inplace = True)\n",
        "clear_output()"
      ],
      "execution_count": 0,
      "outputs": []
    },
    {
      "cell_type": "code",
      "metadata": {
        "id": "guN43grj6GC_",
        "colab_type": "code",
        "colab": {}
      },
      "source": [
        "#Check if some dataframe is empty or not\n",
        "for i in range(len(vehicles_new)):\n",
        "  if(vehicles_new[i].empty):\n",
        "    print(\"I am Empty\")\n",
        "clear_output()"
      ],
      "execution_count": 0,
      "outputs": []
    },
    {
      "cell_type": "markdown",
      "metadata": {
        "id": "i29RUGowkiqO",
        "colab_type": "text"
      },
      "source": [
        "Saving this data back to disk for security."
      ]
    },
    {
      "cell_type": "code",
      "metadata": {
        "id": "_0jmqvFUOkGH",
        "colab_type": "code",
        "colab": {}
      },
      "source": [
        "for i in range(len(vehicles_new)):\n",
        "  name = './TestPreProcessedData_2/DataFile_'+str(i+1)+'.csv'\n",
        "  vehicles_new[i].to_csv(name)"
      ],
      "execution_count": 0,
      "outputs": []
    },
    {
      "cell_type": "markdown",
      "metadata": {
        "id": "0TnxXAz_knpo",
        "colab_type": "text"
      },
      "source": [
        "Reading back the vehicular data."
      ]
    },
    {
      "cell_type": "code",
      "metadata": {
        "id": "88I72RokXhrx",
        "colab_type": "code",
        "outputId": "b4cbb5ed-9567-44fe-c374-8b2fea2fdc2d",
        "colab": {
          "base_uri": "https://localhost:8080/",
          "height": 85
        }
      },
      "source": [
        "vehicles_new=[]\n",
        "path = 'TestPreProcessedData_2'\n",
        "all_files = glob.glob(path+ \"/*.csv\")\n",
        "i = 0\n",
        "for fileName in all_files:\n",
        "  frame = pd.read_csv(fileName, sep = ',')\n",
        "  vehicles_new.append(frame)\n",
        "  if i%1000 == 0:\n",
        "    print(i)\n",
        "  i += 1\n",
        "\n",
        "clear_output()"
      ],
      "execution_count": 0,
      "outputs": [
        {
          "output_type": "stream",
          "text": [
            "0\n",
            "1000\n",
            "2000\n",
            "3000\n"
          ],
          "name": "stdout"
        }
      ]
    },
    {
      "cell_type": "markdown",
      "metadata": {
        "id": "CBxM9qLdksBG",
        "colab_type": "text"
      },
      "source": [
        "Extracting speed and acceleration at verious timestamps using GPS coordinates."
      ]
    },
    {
      "cell_type": "code",
      "metadata": {
        "id": "0R1FhIw06GDD",
        "colab_type": "code",
        "colab": {}
      },
      "source": [
        "for j in range(len(vehicles_new)):\n",
        "    # if(not vehicles_new[j].empty):\n",
        "    vehicles_new[j].at[0,'dist']=0\n",
        "    vehicles_new[j].at[0,'LatLongSpeed']=0\n",
        "    vehicles_new[j].at[0,'acc']=0\n",
        "    for k in range(1, vehicles_new[j].shape[0]):\n",
        "        geod = pyproj.Geod(ellps='WGS84')\n",
        "        lat0=vehicles_new[j].at[k-1,'lat']\n",
        "        lon0=vehicles_new[j].at[k-1,'long']\n",
        "        lat1=vehicles_new[j].at[k,'lat']\n",
        "        lon1=vehicles_new[j].at[k,'long']\n",
        "\n",
        "        a1, a2, dist = geod.inv(lon0, lat0, lon1, lat1)\n",
        "        vehicles_new[j].at[k,'dist']=dist\n",
        "        \n",
        "        timediff = (vehicles_new[j].at[k,'datetime']-vehicles_new[j].at[k-1,'datetime']).total_seconds()/3600\n",
        "        \n",
        "        \n",
        "        vehicles_new[j].at[k,'LatLongSpeed']=(vehicles_new[j].at[k,'dist']-vehicles_new[j].at[k-1,'dist'])/timediff\n",
        "        \n",
        "        vehicles_new[j].at[k,'acc']=(vehicles_new[j].at[k,'speed']-vehicles_new[j].at[k-1,'speed'])/timediff\n",
        "    \n",
        "    if(j%1000 == 0):\n",
        "      print(j)\n",
        "clear_output()"
      ],
      "execution_count": 0,
      "outputs": []
    },
    {
      "cell_type": "markdown",
      "metadata": {
        "id": "wSzM6sNjk3QG",
        "colab_type": "text"
      },
      "source": [
        "Checking for rows with data that cannot be processed further."
      ]
    },
    {
      "cell_type": "code",
      "metadata": {
        "id": "lcnXv7AO6GDH",
        "colab_type": "code",
        "colab": {}
      },
      "source": [
        "# To check if nan, inf or -inf exist in some entry of some row of some dataframe\n",
        "for i in range(len(vehicles)):\n",
        "    if(vehicles_new[i].isin([np.nan, np.inf, -np.inf]).any(1).values.any()):\n",
        "        print(str(i)+\" Exist\")\n",
        "    else:\n",
        "        print(str(i)+\" Not Exist\")\n",
        "clear_output()"
      ],
      "execution_count": 0,
      "outputs": []
    },
    {
      "cell_type": "markdown",
      "metadata": {
        "id": "IGkFHChak-wr",
        "colab_type": "text"
      },
      "source": [
        "For each vehicle, calculating aggregated parameters of speed and acceleration."
      ]
    },
    {
      "cell_type": "code",
      "metadata": {
        "id": "0gmM0FKZ6GDO",
        "colab_type": "code",
        "colab": {}
      },
      "source": [
        "df2=pd.DataFrame(columns=['id','speed1_avg','speed2_avg','speed1_var','speed2_var','acc_avg','acc_var','class'])\n",
        "for i in range(len(vehicles_new)):\n",
        "    if(not vehicles_new[j].empty):\n",
        "        df2.at[i,'speed1_avg'] = vehicles_new[i]['speed'].mean()\n",
        "        df2.at[i,'speed2_avg'] = vehicles_new[i]['LatLongSpeed'].mean()\n",
        "        df2.at[i,'speed1_var'] = vehicles_new[i]['speed'].var()\n",
        "        df2.at[i,'speed2_var'] = vehicles_new[i]['LatLongSpeed'].var()\n",
        "        df2.at[i,'acc_avg'] = vehicles_new[i]['acc'].mean()\n",
        "        df2.at[i,'acc_var'] = vehicles_new[i]['acc'].var()\n",
        "        df2.at[i,'id']= i\n",
        "        df2.at[i,'class']= vehicles_new[i]['class'][0]\n",
        "    if(i%100 == 0):\n",
        "      print(i)\n",
        "clear_output()"
      ],
      "execution_count": 0,
      "outputs": []
    },
    {
      "cell_type": "markdown",
      "metadata": {
        "id": "oUbKKjE0lHZ2",
        "colab_type": "text"
      },
      "source": [
        "Finally, saving the preprocessed data."
      ]
    },
    {
      "cell_type": "code",
      "metadata": {
        "id": "7DNvi6YX6GDZ",
        "colab_type": "code",
        "colab": {}
      },
      "source": [
        "df2.to_csv('./TestPreProcessedData_Final/FinalData.csv')"
      ],
      "execution_count": 0,
      "outputs": []
    },
    {
      "cell_type": "markdown",
      "metadata": {
        "id": "eCnrl5EGcCsR",
        "colab_type": "text"
      },
      "source": [
        "#Analysis and Training\n"
      ]
    },
    {
      "cell_type": "markdown",
      "metadata": {
        "id": "54Xrg9EOlQu3",
        "colab_type": "text"
      },
      "source": [
        ""
      ]
    },
    {
      "cell_type": "code",
      "metadata": {
        "id": "4zsuglVdGeO0",
        "colab_type": "code",
        "colab": {}
      },
      "source": [
        "!ls\n",
        "%cd drive/"
      ],
      "execution_count": 0,
      "outputs": []
    },
    {
      "cell_type": "markdown",
      "metadata": {
        "id": "8EdSVWE0m9eL",
        "colab_type": "text"
      },
      "source": [
        "Reading the vehicular data from disk."
      ]
    },
    {
      "cell_type": "code",
      "metadata": {
        "id": "ZdvGWlg8mpA0",
        "colab_type": "code",
        "colab": {}
      },
      "source": [
        "df2 = pd.read_csv('FinalData.csv')\n",
        "df2['class'].unique()\n",
        "# df2['class'].nunique()"
      ],
      "execution_count": 0,
      "outputs": []
    },
    {
      "cell_type": "markdown",
      "metadata": {
        "id": "HOxppvlWnBOV",
        "colab_type": "text"
      },
      "source": [
        "Importing the required libraries."
      ]
    },
    {
      "cell_type": "code",
      "metadata": {
        "id": "wzQtZipzo_uG",
        "colab_type": "code",
        "colab": {}
      },
      "source": [
        "from sklearn.decomposition import PCA\n",
        "from sklearn.neighbors import KNeighborsClassifier\n",
        "from sklearn.model_selection import train_test_split\n",
        "from sklearn import metrics\n",
        "from sklearn.naive_bayes import BernoulliNB\n",
        "from sklearn.svm import SVC\n",
        "from sklearn.ensemble import RandomForestClassifier\n",
        "from sklearn.metrics import classification_report\n",
        "from sklearn.metrics import confusion_matrix\n",
        "from sklearn.tree import DecisionTreeClassifier\n",
        "from sklearn.ensemble import AdaBoostClassifier\n",
        "from sklearn.ensemble import GradientBoostingClassifier\n",
        "from sklearn.linear_model import SGDClassifier\n",
        "from sklearn.ensemble import BaggingClassifier\n",
        "from xgboost import XGBClassifier\n",
        "from xgboost import XGBRegressor\n",
        "from sklearn import preprocessing\n",
        "from sklearn.model_selection import GridSearchCV\n",
        "from sklearn.preprocessing import StandardScaler\n",
        "import sys\n",
        "import pandas as pd\n",
        "import matplotlib.pyplot as plt\n",
        "from mpl_toolkits.mplot3d import Axes3D\n",
        "import matplotlib as mpl\n",
        "import numpy as np\n",
        "import seaborn as sns\n",
        "import xgboost as xgb\n",
        "from sklearn.model_selection import KFold"
      ],
      "execution_count": 0,
      "outputs": []
    },
    {
      "cell_type": "markdown",
      "metadata": {
        "id": "nPCOa-GYnEXR",
        "colab_type": "text"
      },
      "source": [
        "Dropping the columns which are useless, and replacing NA values with mean."
      ]
    },
    {
      "cell_type": "code",
      "metadata": {
        "id": "uka4FVMdvdSa",
        "colab_type": "code",
        "colab": {}
      },
      "source": [
        "df4 = df2\n",
        "df4 = df4[df4['class'] != 'Not available']\n",
        "y = df4['class']\n",
        "df4=df4.drop(columns = ['id','class'])\n",
        "df4.drop(df4.columns[df4.columns.str.contains('unnamed',case = False)],axis = 1, inplace = True)\n",
        "# 'speed1_avg','speed2_avg','speed1_var','speed2_var','acc_avg','acc_var'\n",
        "df4 = df4.fillna(df4.mean())\n",
        "\n",
        "print(df4.shape)"
      ],
      "execution_count": 0,
      "outputs": []
    },
    {
      "cell_type": "markdown",
      "metadata": {
        "id": "pe-fhq9-nguG",
        "colab_type": "text"
      },
      "source": [
        "Scaling the data."
      ]
    },
    {
      "cell_type": "code",
      "metadata": {
        "id": "cxQv0nsVkkZK",
        "colab_type": "code",
        "colab": {}
      },
      "source": [
        "names = df4.columns\n",
        "scaler = preprocessing.StandardScaler()\n",
        "scaled_df = scaler.fit_transform(df4)\n",
        "scaled_df = pd.DataFrame(scaled_df, columns=names)\n",
        "df4=scaled_df"
      ],
      "execution_count": 0,
      "outputs": []
    },
    {
      "cell_type": "markdown",
      "metadata": {
        "id": "MQAb3NdAnig5",
        "colab_type": "text"
      },
      "source": [
        "Plotting the data for analysis."
      ]
    },
    {
      "cell_type": "code",
      "metadata": {
        "id": "4atS-ek-CLMO",
        "colab_type": "code",
        "colab": {}
      },
      "source": [
        "df4.hist(bins=15, color='steelblue', edgecolor='black', linewidth=1.0,\n",
        "           xlabelsize=8, ylabelsize=8, grid=False)    \n",
        "plt.tight_layout(rect=(0, 0, 1.2, 1.2))   "
      ],
      "execution_count": 0,
      "outputs": []
    },
    {
      "cell_type": "code",
      "metadata": {
        "id": "n7Xg9WkNCoG5",
        "colab_type": "code",
        "colab": {}
      },
      "source": [
        "f, ax = plt.subplots(figsize=(10, 8))\n",
        "corr = df4.corr()\n",
        "hm = sns.heatmap(round(corr,2), annot=True, ax=ax, cmap=\"coolwarm\",fmt='.2f',\n",
        "                 linewidths=.05)\n",
        "f.subplots_adjust(top=0.9)\n",
        "t= f.suptitle('Vehicle Attributes Correlation Heatmap', fontsize=14)"
      ],
      "execution_count": 0,
      "outputs": []
    },
    {
      "cell_type": "code",
      "metadata": {
        "id": "3kIGr6oz2E86",
        "colab_type": "code",
        "colab": {}
      },
      "source": [
        "fig = plt.figure(figsize=(8, 6))\n",
        "t = fig.suptitle('speed1_avg - speed2_avg - speed1_var - speed2_var - acc_avg - acc_var', fontsize=14)\n",
        "ax = fig.add_subplot(111, projection='3d')\n",
        "\n",
        "xs = list(df4['speed1_avg'])\n",
        "ys = list(df4['speed2_avg'])\n",
        "zs = list(df4['speed1_var'])\n",
        "data_points = [(x, y, z) for x, y, z in zip(xs, ys, zs)]\n",
        "\n",
        "# ss = list(df4['speed2_var'])\n",
        "colors = ['red' if wt <= 1000 else 'yellow' for wt in list(df4['acc_avg'])]\n",
        "# markers = [',' if q == 'high' else 'x' if q == 'medium' else 'o' for q in list(df4['acc_var'])]\n",
        "\n",
        "# ax.scatter(xs, ys, zs, s=50, alpha=0.6, edgecolors='w')\n",
        "for data, color in zip(data_points, colors):\n",
        "    x, y, z = data\n",
        "    ax.scatter(x, y, z, c=color, edgecolors='none')\n",
        "    # print(data)\n",
        "\n",
        "ax.set_xlabel('speed1_avg')\n",
        "ax.set_ylabel('speed2_avg')\n",
        "ax.set_zlabel('speed1_var')"
      ],
      "execution_count": 0,
      "outputs": []
    },
    {
      "cell_type": "markdown",
      "metadata": {
        "id": "3UKS89sKnmsr",
        "colab_type": "text"
      },
      "source": [
        "Principal Component Analysis"
      ]
    },
    {
      "cell_type": "code",
      "metadata": {
        "id": "cfInNBUrmoCH",
        "colab_type": "code",
        "colab": {}
      },
      "source": [
        "for i in range(1,7): \n",
        "  pca = PCA(n_components = i)\n",
        "  pca.fit(df4)\n",
        "  print(sum(pca.explained_variance_ratio_))"
      ],
      "execution_count": 0,
      "outputs": []
    },
    {
      "cell_type": "markdown",
      "metadata": {
        "id": "ZecaJ9eOxrRF",
        "colab_type": "text"
      },
      "source": [
        "# Shallow Models"
      ]
    },
    {
      "cell_type": "markdown",
      "metadata": {
        "id": "fX3Kd47-ns3w",
        "colab_type": "text"
      },
      "source": [
        "K-Fold Cross-Validation with k=5."
      ]
    },
    {
      "cell_type": "code",
      "metadata": {
        "id": "LxBFegZYNQlF",
        "colab_type": "code",
        "outputId": "d91f6aa1-79bb-4dbe-e9c7-f3819e32b72c",
        "colab": {
          "base_uri": "https://localhost:8080/",
          "height": 34
        }
      },
      "source": [
        "cv = KFold(n_splits=5, random_state=2, shuffle=True)\n",
        "avg_accuracy=0.0\n",
        "string = \"\"\n",
        "for train_index, test_index in cv.split(df4):\n",
        "  X_tr, X_tst, y_tr, y_tst = df4.iloc[train_index], df4.iloc[test_index], y.iloc[train_index], y.iloc[test_index]\n",
        "  clf=BaggingClassifier(n_estimators=100)\n",
        "  model = clf.fit(X_tr, y_tr)\n",
        "  predicted= model.predict(X_tst)\n",
        "  string = string + str(round((metrics.accuracy_score(y_tst, predicted)*100),2)) + ' & '\n",
        "  avg_accuracy = avg_accuracy + metrics.accuracy_score(y_tst, predicted)\n",
        "\n",
        "string = string + (str(round((avg_accuracy/5)*100,2)))\n",
        "print(string)"
      ],
      "execution_count": 0,
      "outputs": [
        {
          "output_type": "stream",
          "text": [
            "92.93 & 90.17 & 91.23 & 91.08 & 92.31 & 91.54\n"
          ],
          "name": "stdout"
        }
      ]
    },
    {
      "cell_type": "markdown",
      "metadata": {
        "id": "jGPxAof1nwvO",
        "colab_type": "text"
      },
      "source": [
        "Splitting the data into train and test sets."
      ]
    },
    {
      "cell_type": "code",
      "metadata": {
        "id": "iVwzo6vWzxhS",
        "colab_type": "code",
        "colab": {}
      },
      "source": [
        "X_tr, X_tst, y_tr, y_tst = train_test_split(df4, y, test_size=0.3)\n",
        "# X_tr, X_tst, y_tr, y_tst = train_test_split(df4, y_one_hot, test_size=0.2)"
      ],
      "execution_count": 0,
      "outputs": []
    },
    {
      "cell_type": "markdown",
      "metadata": {
        "id": "ye98QBU5n0oZ",
        "colab_type": "text"
      },
      "source": [
        "Training Shallow Models."
      ]
    },
    {
      "cell_type": "code",
      "metadata": {
        "id": "jaPNSPg3v0v5",
        "colab_type": "code",
        "colab": {}
      },
      "source": [
        "#KNN Model\n",
        "clf=KNeighborsClassifier()\n",
        "clf.fit(X_tr, y_tr)\n",
        "predicted= clf.predict(X_tst)\n",
        "print(metrics.accuracy_score(y_tst, predicted))\n",
        "print(KNeighborsClassifier())"
      ],
      "execution_count": 0,
      "outputs": []
    },
    {
      "cell_type": "code",
      "metadata": {
        "id": "XPs5_mcHv6nf",
        "colab_type": "code",
        "colab": {}
      },
      "source": [
        "#Naive Bayes Model\n",
        "clf=BernoulliNB()\n",
        "clf.fit(X_tr, y_tr)\n",
        "predicted= clf.predict(X_tst)\n",
        "print(metrics.accuracy_score(y_tst, predicted))"
      ],
      "execution_count": 0,
      "outputs": []
    },
    {
      "cell_type": "code",
      "metadata": {
        "id": "ri6EH7huxIJv",
        "colab_type": "code",
        "colab": {}
      },
      "source": [
        "\n",
        "#SVC Model\n",
        "clf=SVC()\n",
        "clf.fit(X_tr, y_tr)\n",
        "predicted= clf.predict(X_tst)\n",
        "print(metrics.accuracy_score(y_tst, predicted))"
      ],
      "execution_count": 0,
      "outputs": []
    },
    {
      "cell_type": "code",
      "metadata": {
        "id": "8JO_wkQ_xSMC",
        "colab_type": "code",
        "outputId": "fbce91de-4aa5-46a2-c86e-12f1f7eb9650",
        "colab": {
          "base_uri": "https://localhost:8080/",
          "height": 34
        }
      },
      "source": [
        "#Random Forest Model\n",
        "clf=RandomForestClassifier(n_estimators=1000,min_samples_leaf=3)\n",
        "clf.fit(X_tr, y_tr)\n",
        "predicted= clf.predict(X_tst)\n",
        "print(metrics.accuracy_score(y_tst, predicted))\n",
        "# print(RandomForestClassifier())"
      ],
      "execution_count": 0,
      "outputs": [
        {
          "output_type": "stream",
          "text": [
            "0.9617834394904459\n"
          ],
          "name": "stdout"
        }
      ]
    },
    {
      "cell_type": "markdown",
      "metadata": {
        "id": "Isrjl2JQn4Mz",
        "colab_type": "text"
      },
      "source": [
        "Parameter Tuning for Random Forest Classifier."
      ]
    },
    {
      "cell_type": "code",
      "metadata": {
        "id": "yI02Mccy2P4b",
        "colab_type": "code",
        "colab": {}
      },
      "source": [
        "# #Tuning Parameters\n",
        "# rfc = RandomForestClassifier()\n",
        "# parameters = {\n",
        "#     \"n_estimators\":[5,10,50,100],\n",
        "#     \"max_depth\":[2,4,8,16,32,64,None],\n",
        "#     \"min_samples_leaf\":[1,5,10,50]\n",
        "# }\n",
        "# cv = GridSearchCV(rfc,parameters,cv=5)\n",
        "# cv.fit(X_tr,y_tr.values.ravel())\n",
        "# print(f'Best parameters are: {cv.best_params_}')\n",
        "# # print(\"\\n\")\n",
        "# mean_score = cv.cv_results_['mean_test_score']\n",
        "# std_score = cv.cv_results_['std_test_score']\n",
        "# params = cv.cv_results_['params']\n",
        "# for mean,std,params in zip(mean_score,std_score,params):\n",
        "#   print(f'{round(mean,3)} + or -{round(std,3)} for the {params}')"
      ],
      "execution_count": 0,
      "outputs": []
    },
    {
      "cell_type": "code",
      "metadata": {
        "id": "rnrHZpacTuPS",
        "colab_type": "code",
        "colab": {}
      },
      "source": [
        "#Decision Tree Model \n",
        "clf=DecisionTreeClassifier(min_samples_leaf=3, max_depth=4)\n",
        "clf.fit(X_tr, y_tr)\n",
        "predicted= clf.predict(X_tst)\n",
        "print(metrics.accuracy_score(y_tst, predicted))"
      ],
      "execution_count": 0,
      "outputs": []
    },
    {
      "cell_type": "code",
      "metadata": {
        "id": "2zlS8ySxYEgk",
        "colab_type": "code",
        "colab": {}
      },
      "source": [
        "#Ada Boost Model\n",
        "clf=AdaBoostClassifier(n_estimators=100,learning_rate=1)\n",
        "model = clf.fit(X_tr, y_tr)\n",
        "predicted= model.predict(X_tst)\n",
        "print(metrics.accuracy_score(y_tst, predicted))\n",
        "print(AdaBoostClassifier())"
      ],
      "execution_count": 0,
      "outputs": []
    },
    {
      "cell_type": "code",
      "metadata": {
        "id": "nMpIVLRsskNe",
        "colab_type": "code",
        "colab": {}
      },
      "source": [
        "#Gradient Boost Model\n",
        "clf=GradientBoostingClassifier()\n",
        "model = clf.fit(X_tr, y_tr,)\n",
        "predicted= model.predict(X_tst)\n",
        "print(metrics.accuracy_score(y_tst, predicted))\n",
        "print(GradientBoostingClassifier())"
      ],
      "execution_count": 0,
      "outputs": []
    },
    {
      "cell_type": "code",
      "metadata": {
        "id": "Co0xSblnt4hi",
        "colab_type": "code",
        "colab": {}
      },
      "source": [
        "#SGD Model\n",
        "clf=SGDClassifier()\n",
        "model = clf.fit(X_tr, y_tr)\n",
        "predicted= model.predict(X_tst)\n",
        "print(metrics.accuracy_score(y_tst, predicted))\n",
        "print(SGDClassifier())"
      ],
      "execution_count": 0,
      "outputs": []
    },
    {
      "cell_type": "code",
      "metadata": {
        "id": "k69kb-BCv4S4",
        "colab_type": "code",
        "colab": {}
      },
      "source": [
        "#Bagging Model\n",
        "clf=BaggingClassifier(n_estimators=100)\n",
        "model = clf.fit(X_tr, y_tr)\n",
        "predicted= model.predict(X_tst)\n",
        "print(metrics.accuracy_score(y_tst, predicted))\n",
        "print(BaggingClassifier())"
      ],
      "execution_count": 0,
      "outputs": []
    },
    {
      "cell_type": "markdown",
      "metadata": {
        "id": "rxesehz8oLXX",
        "colab_type": "text"
      },
      "source": [
        "Parameter Tuning for XGB Model."
      ]
    },
    {
      "cell_type": "code",
      "metadata": {
        "colab_type": "code",
        "id": "MlzA9ijY8ocE",
        "colab": {}
      },
      "source": [
        "\n",
        "# for learning_rate in [0.1] :\n",
        "for learning_rate in [0.01,0.03,0.05,0.1,0.3,0.5,1,3] :\n",
        "  clf=XGBClassifier(booster='gbtree',objective='multi:softmax',num_class =10,eval_metric = 'merror', \n",
        "                     learning_rate=learning_rate,n_estimators=120,\n",
        "                      max_depth=5, min_child_weigth = 3,gamma=0,subsample=0.7, colsample_bytree = 0.9,scale_pos_weight = 1,seed = 27)\n",
        "    \n",
        "  model = clf.fit(X_tr, y_tr)\n",
        "  predicted= model.predict(X_tst)\n",
        "  print('learning rate: '+ str(learning_rate) +\"    Accuracy: \" + str(metrics.accuracy_score(y_tst, predicted)))\n"
      ],
      "execution_count": 0,
      "outputs": []
    },
    {
      "cell_type": "code",
      "metadata": {
        "id": "p1Qskjocf2Iy",
        "colab_type": "code",
        "colab": {}
      },
      "source": [
        "#XGB Model\n",
        "clf=XGBClassifier(booster='gbtree',objective='multi:softmax',num_class =10,eval_metric = 'merror', \n",
        "                     learning_rate=0.5,n_estimators=120,\n",
        "                      max_depth=5, min_child_weigth = 3,gamma=0,subsample=0.7, colsample_bytree = 0.9,scale_pos_weight = 1,seed = 27)\n",
        "model = clf.fit(X_tr, y_tr)\n",
        "predicted= model.predict(X_tst)\n",
        "print(metrics.accuracy_score(y_tst, predicted))"
      ],
      "execution_count": 0,
      "outputs": []
    },
    {
      "cell_type": "markdown",
      "metadata": {
        "id": "fFH3HFguoRpJ",
        "colab_type": "text"
      },
      "source": [
        "Parameter Tuning for XGB Model using Grid Search Algorithm."
      ]
    },
    {
      "cell_type": "code",
      "metadata": {
        "id": "1sXSrAAhIQ5n",
        "colab_type": "code",
        "colab": {}
      },
      "source": [
        "param_test1 = {\n",
        " 'max_depth':range(1,10,1),\n",
        " 'min_child_weight':range(1,10,1)\n",
        "}\n",
        "params = {\n",
        "        'gamma':[i/10.0 for i in range(0,5)],\n",
        "        'subsample':[i/10.0 for i in range(6,10)],\n",
        "        'colsample_bytree':[i/10.0 for i in range(6,10)]\n",
        "        }\n",
        "\n",
        "gsearch1 = GridSearchCV(estimator = clf,param_grid = params,iid=False, cv=5)\n",
        "gsearch1.fit(X_tr,y_tr)\n",
        "gsearch1.best_params_, gsearch1.best_score_"
      ],
      "execution_count": 0,
      "outputs": []
    },
    {
      "cell_type": "markdown",
      "metadata": {
        "id": "kGLcNtEqoZaR",
        "colab_type": "text"
      },
      "source": [
        "Printing the best parameters."
      ]
    },
    {
      "cell_type": "code",
      "metadata": {
        "id": "a5xVzwMmNJRH",
        "colab_type": "code",
        "colab": {}
      },
      "source": [
        "gsearch1.best_params_, gsearch1.best_score_"
      ],
      "execution_count": 0,
      "outputs": []
    },
    {
      "cell_type": "markdown",
      "metadata": {
        "id": "9WLWzJ4qocNy",
        "colab_type": "text"
      },
      "source": [
        "Data Structures for Paramter Tuning of XGB Classifier."
      ]
    },
    {
      "cell_type": "code",
      "metadata": {
        "id": "8Fl85wQ7D8n4",
        "colab_type": "code",
        "colab": {}
      },
      "source": [
        "# # Tuning parameters\n",
        "# params = {\n",
        "#         'min_child_weight': [1, 5, 10],\n",
        "#         'gamma': [0.5, 1, 1.5, 2, 5],\n",
        "#         'subsample': [0.6, 0.8, 1.0],\n",
        "#         'colsample_bytree': [0.6, 0.8, 1.0],\n",
        "#         'max_depth': [3, 4, 5]\n",
        "#         }\n",
        "\n",
        "# param_test1 = {\n",
        "#  'max_depth':range(3,10,2),\n",
        "#  'min_child_weight':range(1,6,2)\n",
        "# }\n"
      ],
      "execution_count": 0,
      "outputs": []
    },
    {
      "cell_type": "markdown",
      "metadata": {
        "id": "-TOQbZjFokE-",
        "colab_type": "text"
      },
      "source": [
        "Printing the results of the Models."
      ]
    },
    {
      "cell_type": "code",
      "metadata": {
        "id": "H7hUn1rArPzN",
        "colab_type": "code",
        "colab": {}
      },
      "source": [
        "report = classification_report(y_tst, predicted)\n",
        "print(report)\n",
        "matrix = confusion_matrix(y_tst, predicted)\n",
        "print(matrix)"
      ],
      "execution_count": 0,
      "outputs": []
    },
    {
      "cell_type": "code",
      "metadata": {
        "id": "kRemc0Wc1uEy",
        "colab_type": "code",
        "colab": {}
      },
      "source": [
        "#To evaluate the model's predictions\n",
        "report = classification_report(y_tst, predicted)\n",
        "print(report)\n",
        "matrix = confusion_matrix(y_tst, predicted)\n",
        "print(matrix)"
      ],
      "execution_count": 0,
      "outputs": []
    },
    {
      "cell_type": "code",
      "metadata": {
        "id": "DmlhB01a-sl5",
        "colab_type": "code",
        "colab": {}
      },
      "source": [
        "# Final Accuracy : 93% (Random Forest Classifier)\n",
        "# F1 Score : 93%"
      ],
      "execution_count": 0,
      "outputs": []
    },
    {
      "cell_type": "markdown",
      "metadata": {
        "id": "zpUzQ3a_xz-C",
        "colab_type": "text"
      },
      "source": [
        "# Neural network"
      ]
    },
    {
      "cell_type": "markdown",
      "metadata": {
        "id": "UiM44F7bopfr",
        "colab_type": "text"
      },
      "source": [
        "Importing the required libraries."
      ]
    },
    {
      "cell_type": "code",
      "metadata": {
        "id": "qQ9eMYXeB0Zd",
        "colab_type": "code",
        "colab": {}
      },
      "source": [
        "from keras.models import Sequential\n",
        "from keras.layers import Dense,Embedding,LSTM\n",
        "\n",
        "from sklearn import preprocessing\n",
        "import sys"
      ],
      "execution_count": 0,
      "outputs": []
    },
    {
      "cell_type": "code",
      "metadata": {
        "id": "LxPUuAXj4Uud",
        "colab_type": "code",
        "colab": {}
      },
      "source": [
        "#Changing pandas dataframe to numpy array\n",
        "X = df4.values\n",
        "y = y.values"
      ],
      "execution_count": 0,
      "outputs": []
    },
    {
      "cell_type": "code",
      "metadata": {
        "id": "CqxRdcGoycby",
        "colab_type": "code",
        "colab": {}
      },
      "source": [
        "# # #Standarize OR Normalize the data here\n",
        "# # #standardized_X = preprocessing.scale(X)\n",
        "\n",
        "# names = df4.columns\n",
        "# # Create the Scaler object\n",
        "# scaler = preprocessing.StandardScaler()\n",
        "# # Fit your data on the scaler object\n",
        "# scaled_df = scaler.fit_transform(df4)\n",
        "# scaled_df = pd.DataFrame(scaled_df, columns=names)\n",
        "# X = scaled_df.iloc[:,1:7].values\n",
        "\n",
        "# # # np.set_printoptions(threshold=sys.maxsize)\n",
        "\n",
        "\n",
        "\n",
        "# # # integer encode\n",
        "# # label_encoder = preprocessing.LabelEncoder()\n",
        "# # integer_encoded = label_encoder.fit_transform(y)\n",
        "# # print(integer_encoded)\n",
        "# # # binary encode\n",
        "# # onehot_encoder = preprocessing.OneHotEncoder(sparse=False)\n",
        "# # integer_encoded = integer_encoded.reshape(len(integer_encoded), 1)\n",
        "# # onehot_encoded = onehot_encoder.fit_transform(integer_encoded)\n",
        "# # print(onehot_encoded)\n",
        "# # # invert first example\n",
        "# # inverted = label_encoder.inverse_transform([np.argmax(onehot_encoded[0, :])])\n",
        "# # print(inverted)\n",
        "\n",
        "\n",
        "\n",
        "# # #Label Encoder\n",
        "# # # le = preprocessing.LabelEncoder()\n",
        "# # # le.fit(y)\n",
        "# # # y=le.transform(y)"
      ],
      "execution_count": 0,
      "outputs": []
    },
    {
      "cell_type": "markdown",
      "metadata": {
        "id": "JFa1fnhEo0KW",
        "colab_type": "text"
      },
      "source": [
        "One - hot encoding"
      ]
    },
    {
      "cell_type": "code",
      "metadata": {
        "id": "UydezsTHxkOd",
        "colab_type": "code",
        "colab": {}
      },
      "source": [
        "# #Standarize OR Normalize the data here\n",
        "# #standardized_X = preprocessing.scale(X)\n",
        "\n",
        "# Onehotcenode\n",
        "onehotencoder = preprocessing.OneHotEncoder(categories = 'auto' )\n",
        "y_one_hot = onehotencoder.fit_transform(y.reshape(-1,1)).toarray()"
      ],
      "execution_count": 0,
      "outputs": []
    },
    {
      "cell_type": "markdown",
      "metadata": {
        "id": "iDZXAsOyo3Fi",
        "colab_type": "text"
      },
      "source": [
        "Splitting the data into test and train sets.\n",
        "Initializing the model."
      ]
    },
    {
      "cell_type": "code",
      "metadata": {
        "id": "ENk-yKCq461j",
        "colab_type": "code",
        "colab": {}
      },
      "source": [
        "X_train,X_test,y_train,y_test = train_test_split(X,y_one_hot,test_size = 0.41)\n",
        "\n",
        "# define the keras model\n",
        "model = Sequential()\n",
        "model.add(Dense(8, input_dim=X.shape[1], activation='relu'))\n",
        "model.add(Dense(12, activation='relu'))\n",
        "model.add(Dense(16, activation='relu'))\n",
        "model.add(Dense(20, activation='relu'))\n",
        "model.add(Dense(15, activation='relu'))\n",
        "# model.add(Dense(12, activation='relu'))\n",
        "model.add(Dense(10, activation='softmax'))\n"
      ],
      "execution_count": 0,
      "outputs": []
    },
    {
      "cell_type": "markdown",
      "metadata": {
        "id": "ffE3LV7Yo-qL",
        "colab_type": "text"
      },
      "source": [
        "Compiling the keras model and training it."
      ]
    },
    {
      "cell_type": "code",
      "metadata": {
        "id": "GUAOf_4TPa5d",
        "colab_type": "code",
        "colab": {}
      },
      "source": [
        "#Compile\n",
        "model.compile(loss='categorical_crossentropy', optimizer='adam', metrics=['accuracy'])\n",
        "\n",
        "# Fit Keras Model.\n",
        "history = model.fit(X_train, y_train, epochs=6000, batch_size=64)\n",
        "\n",
        "# Make Predictions\n",
        "y_pred = model.predict(X_test)\n",
        "#Converting predictions to label\n",
        "pred = list()\n",
        "for i in range(len(y_pred)):\n",
        "    pred.append(np.argmax(y_pred[i]))\n",
        "#Converting one hot encoded test label to label\n",
        "test = list()\n",
        "for i in range(len(y_test)):\n",
        "    test.append(np.argmax(y_test[i]))\n",
        "\n",
        "from sklearn.metrics import accuracy_score\n",
        "a = accuracy_score(pred,test)\n",
        "print('Accuracy is:', a*100)"
      ],
      "execution_count": 0,
      "outputs": []
    },
    {
      "cell_type": "markdown",
      "metadata": {
        "id": "GxEco4MhpD3b",
        "colab_type": "text"
      },
      "source": [
        "Printing the accuracy."
      ]
    },
    {
      "cell_type": "code",
      "metadata": {
        "id": "FwpfKirzlmbA",
        "colab_type": "code",
        "colab": {}
      },
      "source": [
        "print('Accuracy is:', a*100)"
      ],
      "execution_count": 0,
      "outputs": []
    },
    {
      "cell_type": "markdown",
      "metadata": {
        "id": "JoYO9JsJpIti",
        "colab_type": "text"
      },
      "source": [
        "Plotting the results."
      ]
    },
    {
      "cell_type": "code",
      "metadata": {
        "id": "DIuHN2795LY-",
        "colab_type": "code",
        "colab": {}
      },
      "source": [
        "import matplotlib.pyplot as plt"
      ],
      "execution_count": 0,
      "outputs": []
    },
    {
      "cell_type": "code",
      "metadata": {
        "id": "P-0T6UbS02US",
        "colab_type": "code",
        "outputId": "2d96ca4a-fe31-4e48-e5e4-89a910cc10cc",
        "colab": {
          "base_uri": "https://localhost:8080/",
          "height": 295
        }
      },
      "source": [
        "plt.plot(history.history['acc'])\n",
        "plt.title('Model accuracy')\n",
        "plt.ylabel('Accuracy')\n",
        "plt.xlabel('Epoch')\n",
        "plt.legend(['Train', 'Test'], loc='upper left')\n",
        "plt.show()\n"
      ],
      "execution_count": 0,
      "outputs": [
        {
          "output_type": "display_data",
          "data": {
            "image/png": "[encoded data removed]",
            "text/plain": [
              "<Figure size 432x288 with 1 Axes>"
            ]
          },
          "metadata": {
            "tags": []
          }
        }
      ]
    },
    {
      "cell_type": "code",
      "metadata": {
        "id": "bRNRJVkx1FQS",
        "colab_type": "code",
        "outputId": "49a8e502-3727-4737-9163-b5eb8933c29f",
        "colab": {
          "base_uri": "https://localhost:8080/",
          "height": 295
        }
      },
      "source": [
        "\n",
        "plt.plot(history.history['loss'])\n",
        "# plt.plot(historyhistory['val_loss'])\n",
        "plt.title('Model loss')\n",
        "plt.ylabel('Loss')\n",
        "plt.xlabel('Epoch')\n",
        "plt.legend(['Train', 'Test'], loc='upper left')\n",
        "plt.show()\n"
      ],
      "execution_count": 0,
      "outputs": [
        {
          "output_type": "display_data",
          "data": {
            "image/png": "[encoded data removed]",
            "text/plain": [
              "<Figure size 432x288 with 1 Axes>"
            ]
          },
          "metadata": {
            "tags": []
          }
        }
      ]
    },
    {
      "cell_type": "code",
      "metadata": {
        "colab_type": "code",
        "id": "8L-qAL1OpS9i",
        "colab": {}
      },
      "source": [
        "report = classification_report(y_tst, predicted)\n",
        "print(report)\n",
        "matrix = confusion_matrix(y_tst, predicted)\n",
        "print(matrix)"
      ],
      "execution_count": 0,
      "outputs": []
    },
    {
      "cell_type": "markdown",
      "metadata": {
        "id": "BtGJUG-zpWnY",
        "colab_type": "text"
      },
      "source": [
        "Printing the results of the model."
      ]
    },
    {
      "cell_type": "code",
      "metadata": {
        "id": "3FRWki7BSiRF",
        "colab_type": "code",
        "colab": {}
      },
      "source": [
        "print(y_pred)"
      ],
      "execution_count": 0,
      "outputs": []
    },
    {
      "cell_type": "code",
      "metadata": {
        "id": "-MTIm9hNZhyB",
        "colab_type": "code",
        "colab": {}
      },
      "source": [
        "print(pred)"
      ],
      "execution_count": 0,
      "outputs": []
    }
  ]
}